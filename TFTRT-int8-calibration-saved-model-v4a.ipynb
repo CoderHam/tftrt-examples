{
 "cells": [
  {
   "cell_type": "markdown",
   "metadata": {},
   "source": [
    "# TF-TRT INT8 Inference From Saved Model\n",
    "\n",
    "In this notebook, we demonstrate the process to create a TF-TRT optimized model from a Tensorflow *saved model*. This notebook has been successfully tested with the NVIDIA NGC Tensorflow container `nvcr.io/nvidia/tensorflow:19.04-py3` that can be downloaded from http://ngc.nvidia.com.\n",
    "\n",
    "\n",
    "## Saved model\n",
    "We will run this demonstration with a saved Resnet-50 model.\n",
    "\n",
    "## Data\n",
    "The INT8 calibration process requires access to a small but representative sample of real training or valiation data.\n",
    "\n",
    "We use the ImageNet dataset that has been stored in TFrecords format. Google provide an excellent all-in-one script for downloading and preparing the ImageNet dataset at https://github.com/tensorflow/models/blob/master/research/inception/inception/data/download_and_preprocess_imagenet.sh.\n",
    "\n",
    " \n",
    "\n",
    "\n",
    "To run this notebook, start the NGC TF container, providing correct path to ImageNet validation data `/path/to/image_net` and the folder `/path/to/saved_model` containing the TF saved model:\n",
    "\n",
    "```bash\n",
    "nvidia-docker run --rm -it -p 8888:8888 -v /path/to/image_net:/data  -v /path/to/saved_model:/saved_model --name TFTRT nvcr.io/nvidia/tensorflow:19.04-py3\n",
    "```\n",
    "\n",
    "Within the container, we start Jupyter notebook with:\n",
    "\n",
    "```bash\n",
    "jupyter notebook --ip 0.0.0.0 --port 8888  --allow-root\n",
    "```\n",
    "\n",
    "Connect to Jupyter notebook web interface on your host http://localhost:8888.\n",
    "\n",
    "This repository can be cloned to `/workspace` within the container with \n",
    "```bash\n",
    "git clone https://github.com/vinhngx/tftrt-examples\n",
    "```\n",
    "\n",
    "\n",
    "We first install some extra packages and external dependencies needed for, e.g. preprocessing ImageNet data. "
   ]
  },
  {
   "cell_type": "code",
   "execution_count": null,
   "metadata": {
    "scrolled": false
   },
   "outputs": [],
   "source": [
    "%%bash\n",
    "pushd /workspace/nvidia-examples/tensorrt/tftrt/examples/object_detection/ \n",
    "bash install_dependencies.sh;\n",
    "popd"
   ]
  },
  {
   "cell_type": "code",
   "execution_count": 2,
   "metadata": {},
   "outputs": [],
   "source": [
    "import tensorflow as tf\n",
    "import tensorflow.contrib.tensorrt as trt\n",
    "import numpy as np\n",
    "import matplotlib.pyplot as plt\n",
    "import os\n",
    "import time\n",
    "\n",
    "import os\n",
    "os.environ[\"CUDA_DEVICE_ORDER\"]=\"PCI_BUS_ID\"   # see issue #152\n",
    "os.environ[\"CUDA_VISIBLE_DEVICES\"]=\"2\""
   ]
  },
  {
   "cell_type": "markdown",
   "metadata": {},
   "source": [
    "## Data\n",
    "We verify that the correct data folder has been mounted."
   ]
  },
  {
   "cell_type": "code",
   "execution_count": 3,
   "metadata": {},
   "outputs": [
    {
     "name": "stdout",
     "output_type": "stream",
     "text": [
      "There are 128 calibration files. \n",
      "/data/validation-00114-of-00128\n",
      "/data/validation-00094-of-00128\n",
      "...\n"
     ]
    }
   ],
   "source": [
    "VALIDATION_DATA_DIR = \"/data\"\n",
    "\n",
    "def get_files(data_dir, filename_pattern):\n",
    "    if data_dir == None:\n",
    "        return []\n",
    "    files = tf.gfile.Glob(os.path.join(data_dir, filename_pattern))\n",
    "    if files == []:\n",
    "        raise ValueError('Can not find any files in {} with '\n",
    "                         'pattern \"{}\"'.format(data_dir, filename_pattern))\n",
    "    return files\n",
    "\n",
    "calibration_files = get_files(VALIDATION_DATA_DIR, 'validation*')\n",
    "print('There are %d calibration files. \\n%s\\n%s\\n...'%(len(calibration_files), calibration_files[0], calibration_files[-1]))"
   ]
  },
  {
   "cell_type": "markdown",
   "metadata": {},
   "source": [
    "## Helper functions\n",
    "We define a few helper functions to read and preprocess Imagenet data from TFRecord files. "
   ]
  },
  {
   "cell_type": "code",
   "execution_count": 4,
   "metadata": {},
   "outputs": [],
   "source": [
    "def deserialize_image_record(record):\n",
    "    feature_map = {\n",
    "        'image/encoded':          tf.FixedLenFeature([ ], tf.string, ''),\n",
    "        'image/class/label':      tf.FixedLenFeature([1], tf.int64,  -1),\n",
    "        'image/class/text':       tf.FixedLenFeature([ ], tf.string, ''),\n",
    "        'image/object/bbox/xmin': tf.VarLenFeature(dtype=tf.float32),\n",
    "        'image/object/bbox/ymin': tf.VarLenFeature(dtype=tf.float32),\n",
    "        'image/object/bbox/xmax': tf.VarLenFeature(dtype=tf.float32),\n",
    "        'image/object/bbox/ymax': tf.VarLenFeature(dtype=tf.float32)\n",
    "    }\n",
    "    with tf.name_scope('deserialize_image_record'):\n",
    "        obj = tf.parse_single_example(record, feature_map)\n",
    "        imgdata = obj['image/encoded']\n",
    "        label   = tf.cast(obj['image/class/label'], tf.int32)\n",
    "        bbox    = tf.stack([obj['image/object/bbox/%s'%x].values\n",
    "                            for x in ['ymin', 'xmin', 'ymax', 'xmax']])\n",
    "        bbox = tf.transpose(tf.expand_dims(bbox, 0), [0,2,1])\n",
    "        text    = obj['image/class/text']\n",
    "        return imgdata, label, bbox, text"
   ]
  },
  {
   "cell_type": "code",
   "execution_count": 21,
   "metadata": {},
   "outputs": [],
   "source": [
    "from preprocessing import inception_preprocessing, vgg_preprocessing\n",
    "def preprocess(record):\n",
    "        # Parse TFRecord\n",
    "        imgdata, label, bbox, text = deserialize_image_record(record)\n",
    "        label -= 1 # Change to 0-based (don't use background class)\n",
    "        try:    image = tf.image.decode_jpeg(imgdata, channels=3, fancy_upscaling=False, dct_method='INTEGER_FAST')\n",
    "        except: image = tf.image.decode_png(imgdata, channels=3)\n",
    "\n",
    "        image = vgg_preprocessing.preprocess_image(image, 224, 224, is_training=False)\n",
    "        return image, label"
   ]
  },
  {
   "cell_type": "markdown",
   "metadata": {},
   "source": [
    "## Benchmarking naitive Tensorflow model"
   ]
  },
  {
   "cell_type": "code",
   "execution_count": 6,
   "metadata": {},
   "outputs": [],
   "source": [
    "#Define some global variables\n",
    "BATCH_SIZE = 128\n",
    "SAVED_MODEL_DIR =  \"/saved_model/resnet_v1_50_savedmodel/1\""
   ]
  },
  {
   "cell_type": "code",
   "execution_count": 34,
   "metadata": {},
   "outputs": [
    {
     "name": "stdout",
     "output_type": "stream",
     "text": [
      "\n",
      "MetaGraphDef with tag-set: 'serve' contains the following SignatureDefs:\n",
      "\n",
      "signature_def['serving_default']:\n",
      "  The given SavedModel SignatureDef contains the following input(s):\n",
      "    inputs['input'] tensor_info:\n",
      "        dtype: DT_FLOAT\n",
      "        shape: (-1, 224, 224, 3)\n",
      "        name: import/input:0\n",
      "  The given SavedModel SignatureDef contains the following output(s):\n",
      "    outputs['output'] tensor_info:\n",
      "        dtype: DT_FLOAT\n",
      "        shape: (-1, 1000)\n",
      "        name: import/resnet_v1_50/predictions/Softmax:0\n",
      "  Method name is: tensorflow/serving/predict\n"
     ]
    }
   ],
   "source": [
    "!saved_model_cli show --all --dir $SAVED_MODEL_DIR"
   ]
  },
  {
   "cell_type": "code",
   "execution_count": 17,
   "metadata": {},
   "outputs": [
    {
     "name": "stdout",
     "output_type": "stream",
     "text": [
      "INFO:tensorflow:Saver not created because there are no variables in the graph to restore\n",
      "INFO:tensorflow:The specified SavedModel has no variables; no checkpoints were restored.\n",
      "WARNING:tensorflow:From <ipython-input-17-f423b8e13c70>:9: FastGFile.__init__ (from tensorflow.python.platform.gfile) is deprecated and will be removed in a future version.\n",
      "Instructions for updating:\n",
      "Use tf.gfile.GFile.\n"
     ]
    }
   ],
   "source": [
    "#First we extract fp32 graphdef\n",
    "tf.reset_default_graph()\n",
    "\n",
    "fp32_graph_def = None\n",
    "with tf.Session(graph=tf.Graph()) as sess:\n",
    "    tf.saved_model.loader.load(\n",
    "        sess, [tf.saved_model.tag_constants.SERVING], SAVED_MODEL_DIR)\n",
    "    fp32_graph_def = sess.graph_def\n",
    "    with tf.gfile.FastGFile('origraph-1.pb','wb') as f:\n",
    "      f.write(fp32_graph_def.SerializeToString())\n",
    "    "
   ]
  },
  {
   "cell_type": "code",
   "execution_count": 22,
   "metadata": {},
   "outputs": [
    {
     "name": "stdout",
     "output_type": "stream",
     "text": [
      "INFO:tensorflow:Saver not created because there are no variables in the graph to restore\n",
      "INFO:tensorflow:The specified SavedModel has no variables; no checkpoints were restored.\n",
      "Warming up for 10 batches...\n",
      "Naitive Tensorflow Accuracy: 75.25%\n",
      "Naitive Tensorflow Inference speed: 1220.02 samples/s\n"
     ]
    }
   ],
   "source": [
    "with tf.Session(graph=tf.Graph()) as sess:\n",
    "    # Initialize all tfrecord paths\n",
    "    dataset = tf.data.TFRecordDataset(calibration_files)    \n",
    "    dataset = dataset.apply(tf.contrib.data.map_and_batch(map_func=preprocess, batch_size=BATCH_SIZE, num_parallel_calls=8))\n",
    "    iterator = dataset.make_one_shot_iterator()\n",
    "    next_element = iterator.get_next()\n",
    "\n",
    "    output_node = tf.import_graph_def(\n",
    "        fp32_graph_def,\n",
    "        return_elements=['import/resnet_v1_50/predictions/Softmax'],\n",
    "        name='')\n",
    "    \n",
    "    tf.saved_model.loader.load(\n",
    "        sess, [tf.saved_model.tag_constants.SERVING], SAVED_MODEL_DIR)\n",
    "\n",
    "    print('Warming up for 10 batches...')\n",
    "    for _ in range (10):\n",
    "        image_data = sess.run(next_element)    \n",
    "        img = image_data[0]\n",
    "        output = sess.run(['import/resnet_v1_50/predictions/Softmax:0'], feed_dict={\"import/input:0\": img})\n",
    "    \n",
    "    num_hits = 0\n",
    "    num_predict = 0\n",
    "    start_time = time.time()\n",
    "    try:\n",
    "        while True:        \n",
    "            image_data = sess.run(next_element)    \n",
    "            img = image_data[0]\n",
    "            label = image_data[1].squeeze()\n",
    "            output = sess.run(output_node[0].outputs[0], feed_dict={\"import/input:0\": img})\n",
    "            prediction = np.argmax(output, axis=1)\n",
    "            num_hits += np.sum(prediction == label)\n",
    "            num_predict += len(prediction)\n",
    "    except tf.errors.OutOfRangeError as e:\n",
    "        pass\n",
    "            \n",
    "    print('Naitive Tensorflow Accuracy: %.2f%%'%(100*num_hits/num_predict)) \n",
    "    print('Naitive Tensorflow Inference speed: %.2f samples/s'%(num_predict/(time.time()-start_time)))\n"
   ]
  },
  {
   "cell_type": "markdown",
   "metadata": {},
   "source": [
    "## Benchmarking TF-TRT FP16 inference engine"
   ]
  },
  {
   "cell_type": "code",
   "execution_count": 28,
   "metadata": {},
   "outputs": [
    {
     "name": "stdout",
     "output_type": "stream",
     "text": [
      "INFO:tensorflow:Running against TensorRT version 5.1.2\n",
      "Warming up for 10 batches...\n",
      "Benchmarking FP16...\n",
      "FP16 TF-TRT Accuracy: 75.27%\n",
      "FP16 TF-TRT Inference speed: 1375.76 samples/s\n"
     ]
    }
   ],
   "source": [
    "#Now we create the TFTRT FP16 engine\n",
    "trt_fp16_Graph = trt.create_inference_graph(\n",
    "        input_graph_def=fp32_graph_def,\n",
    "        outputs=['import/resnet_v1_50/predictions/Softmax'],\n",
    "        max_batch_size=BATCH_SIZE,\n",
    "        max_workspace_size_bytes=1<<32,\n",
    "        precision_mode='FP16')\n",
    "    \n",
    "with tf.Session(graph=tf.Graph()) as sess:\n",
    "    # Initialize all tfrecord paths\n",
    "    dataset = tf.data.TFRecordDataset(calibration_files)    \n",
    "    dataset = dataset.apply(tf.contrib.data.map_and_batch(map_func=preprocess, batch_size=BATCH_SIZE, num_parallel_calls=8))\n",
    "    iterator = dataset.make_one_shot_iterator()\n",
    "    next_element = iterator.get_next()\n",
    "\n",
    "    output_node = tf.import_graph_def(\n",
    "        trt_fp16_Graph,\n",
    "        return_elements=['import/resnet_v1_50/predictions/Softmax'],\n",
    "        name='')\n",
    "\n",
    "    print('Warming up for 10 batches...')\n",
    "    for _ in range (10):\n",
    "        image_data = sess.run(next_element)    \n",
    "        img = image_data[0]\n",
    "        output = sess.run(['import/resnet_v1_50/predictions/Softmax:0'], feed_dict={\"import/input:0\": img})\n",
    "\n",
    "    print('Benchmarking FP16...')\n",
    "    num_hits = 0\n",
    "    num_predict = 0\n",
    "    start_time = time.time()\n",
    "    try:\n",
    "        while True:        \n",
    "            image_data = sess.run(next_element)    \n",
    "            img = image_data[0]\n",
    "            label = image_data[1].squeeze()\n",
    "            output = sess.run(output_node[0].outputs[0], feed_dict={\"import/input:0\": img})\n",
    "            prediction = np.argmax(output, axis=1)\n",
    "            num_hits += np.sum(prediction == label)\n",
    "            num_predict += len(prediction)\n",
    "    except tf.errors.OutOfRangeError as e:\n",
    "        pass\n",
    "            \n",
    "    print('FP16 TF-TRT Accuracy: %.2f%%'%(100*num_hits/num_predict))\n",
    "    print('FP16 TF-TRT Inference speed: %.2f samples/s'%(num_predict/(time.time()-start_time)))\n"
   ]
  },
  {
   "cell_type": "markdown",
   "metadata": {},
   "source": [
    "## Creating TFTRT INT8 inference model"
   ]
  },
  {
   "cell_type": "markdown",
   "metadata": {},
   "source": [
    "Creating TF-TRT INT8 inference model requires two steps:\n",
    "\n",
    "- Step 1: creating the calibration graph, and run some training data through that graph for INT-8 calibration.\n",
    "\n",
    "- Step 2: converting the calibration graph to the TF-TRT INT8 inference engine\n",
    "\n",
    "### Step 1"
   ]
  },
  {
   "cell_type": "code",
   "execution_count": 30,
   "metadata": {},
   "outputs": [
    {
     "name": "stdout",
     "output_type": "stream",
     "text": [
      "INFO:tensorflow:Running against TensorRT version 5.1.2\n",
      "Calibrate model on calibration data...\n",
      "Calibration accuracy: 75.39%\n"
     ]
    }
   ],
   "source": [
    "#Now we create the TFTRT INT8 calibration graph\n",
    "trt_int8_calib_graph = trt.create_inference_graph(\n",
    "        input_graph_def=fp32_graph_def,\n",
    "        outputs=['import/resnet_v1_50/predictions/Softmax'],\n",
    "        max_batch_size=BATCH_SIZE,\n",
    "        max_workspace_size_bytes=1<<32,\n",
    "        precision_mode='INT8')\n",
    "\n",
    "#Then calibrate it with 2 batchs of examples\n",
    "N_runs=2\n",
    "with tf.Session(graph=tf.Graph()) as sess:\n",
    "    # Initialize all tfrecord paths\n",
    "    dataset = tf.data.TFRecordDataset(calibration_files)\n",
    "    dataset = dataset.apply(tf.contrib.data.map_and_batch(map_func=preprocess, batch_size=BATCH_SIZE, num_parallel_calls=8))\n",
    "    iterator = dataset.make_one_shot_iterator()\n",
    "    next_element = iterator.get_next()\n",
    "\n",
    "    output_node = tf.import_graph_def(\n",
    "        trt_int8_calib_graph,\n",
    "        return_elements=['import/resnet_v1_50/predictions/Softmax'],\n",
    "        name='')\n",
    "\n",
    "    print('Calibrate model on calibration data...')\n",
    "    num_hits = 0\n",
    "    num_predict = 0\n",
    "    for _ in range(N_runs):\n",
    "            image_data = sess.run(next_element)    \n",
    "            img = image_data[0]\n",
    "            label = image_data[1].squeeze()\n",
    "            output = sess.run(output_node[0].outputs[0], feed_dict={\"import/input:0\": img})\n",
    "            prediction = np.argmax(output, axis=1)\n",
    "            num_hits += np.sum(prediction == label)\n",
    "            num_predict += len(prediction)\n",
    "    print('Calibration accuracy: %.2f%%'%(100*num_hits/num_predict)) \n",
    "\n"
   ]
  },
  {
   "cell_type": "markdown",
   "metadata": {},
   "source": [
    "### Step 2\n",
    "\n",
    "Now we convert the INT8 calibration graph to the final TF-TRT INT8 inference engine, and benchmark its performance. We will also be saving this engine to a *saved model*, ready to be served elsewhere."
   ]
  },
  {
   "cell_type": "code",
   "execution_count": 31,
   "metadata": {},
   "outputs": [],
   "source": [
    "SAVED_INT8_MODEL_DIR =  \"/saved_model/resnet50_v1_int8_savedmodel_2\"\n",
    "!rm -rf $SAVED_INT8_MODEL_DIR"
   ]
  },
  {
   "cell_type": "code",
   "execution_count": 32,
   "metadata": {},
   "outputs": [
    {
     "name": "stdout",
     "output_type": "stream",
     "text": [
      "Warming up for 10 batches...\n",
      "Benchmarking TF-TRT INT8 inference engine...\n",
      "INT8 TF-TRT Accuracy: 75.20%\n",
      "INT8 TF-TRT Inference speed: 1375.69 samples/s\n",
      "INFO:tensorflow:Assets added to graph.\n",
      "INFO:tensorflow:No assets to write.\n",
      "INFO:tensorflow:SavedModel written to: /saved_model/resnet50_v1_int8_savedmodel_2/saved_model.pb\n"
     ]
    }
   ],
   "source": [
    "#Create Int8 inference model from the calibration graph and write to a saved session\n",
    "trt_int8_calibrated_graph=trt.calib_graph_to_infer_graph(trt_int8_calib_graph)\n",
    "output_node = tf.import_graph_def(\n",
    "        trt_int8_calibrated_graph,\n",
    "        return_elements=['import/resnet_v1_50/predictions/Softmax'],\n",
    "        name='')\n",
    "\n",
    "with tf.Session(graph=tf.Graph()) as sess:\n",
    "    # Initialize all tfrecord paths\n",
    "    dataset = tf.data.TFRecordDataset(calibration_files)    \n",
    "    dataset = dataset.apply(tf.contrib.data.map_and_batch(map_func=preprocess, batch_size=BATCH_SIZE, num_parallel_calls=8))\n",
    "    iterator = dataset.make_one_shot_iterator()\n",
    "    next_element = iterator.get_next()\n",
    "\n",
    "    output_node = tf.import_graph_def(\n",
    "        trt_int8_calibrated_graph,\n",
    "        return_elements=['import/resnet_v1_50/predictions/Softmax'],\n",
    "        name='')\n",
    "\n",
    "    print('Warming up for 10 batches...')\n",
    "    for _ in range (10):\n",
    "        image_data = sess.run(next_element)    \n",
    "        img = image_data[0]\n",
    "        output = sess.run(['import/resnet_v1_50/predictions/Softmax:0'], feed_dict={\"import/input:0\": img})\n",
    "        \n",
    "    print('Benchmarking TF-TRT INT8 inference engine...')\n",
    "    num_hits = 0\n",
    "    num_predict = 0\n",
    "    start_time = time.time()\n",
    "    try:\n",
    "        while True:        \n",
    "            image_data = sess.run(next_element)    \n",
    "            img = image_data[0]\n",
    "            label = image_data[1].squeeze()\n",
    "            output = sess.run(['import/resnet_v1_50/predictions/Softmax:0'], feed_dict={\"import/input:0\": img})\n",
    "            prediction = np.argmax(output[0], axis=1)\n",
    "            num_hits += np.sum(prediction == label)\n",
    "            num_predict += len(prediction)\n",
    "    except tf.errors.OutOfRangeError as e:\n",
    "        pass\n",
    "            \n",
    "    print('INT8 TF-TRT Accuracy: %.2f%%'%(100*num_hits/num_predict))\n",
    "    print('INT8 TF-TRT Inference speed: %.2f samples/s'%(num_predict/(time.time()-start_time)))\n",
    "\n",
    "    #Save model for serving\n",
    "    tf.saved_model.simple_save(\n",
    "        session=sess,\n",
    "        export_dir=SAVED_INT8_MODEL_DIR,\n",
    "        inputs={\"input\":tf.get_default_graph().get_tensor_by_name(\"import/input:0\")},\n",
    "        outputs={\"softmax\":output_node[0].outputs[0]},\n",
    "        legacy_init_op=None\n",
    "     )\n",
    "\n",
    "      "
   ]
  },
  {
   "cell_type": "markdown",
   "metadata": {},
   "source": [
    "## Benchmarking INT8 saved model\n",
    "\n",
    "Finally we reload and verify the performance of the INT8 saved model."
   ]
  },
  {
   "cell_type": "code",
   "execution_count": 33,
   "metadata": {},
   "outputs": [
    {
     "name": "stdout",
     "output_type": "stream",
     "text": [
      "INFO:tensorflow:Saver not created because there are no variables in the graph to restore\n",
      "INFO:tensorflow:The specified SavedModel has no variables; no checkpoints were restored.\n",
      "Warming up for 10 batches...\n",
      "Benchmarking TF-TRT INT8 inference engine...\n",
      "INT8 TF-TRT Accuracy: 75.20%\n",
      "INT8 TF-TRT Inference speed: 1328.38 samples/s\n"
     ]
    }
   ],
   "source": [
    "#benchmark int8 saved model\n",
    "with tf.Session(graph=tf.Graph()) as sess:\n",
    "    # Initialize all tfrecord paths\n",
    "    dataset = tf.data.TFRecordDataset(calibration_files)    \n",
    "    dataset = dataset.apply(tf.contrib.data.map_and_batch(map_func=preprocess, batch_size=BATCH_SIZE, num_parallel_calls=8))\n",
    "    iterator = dataset.make_one_shot_iterator()\n",
    "    next_element = iterator.get_next()\n",
    "\n",
    "    tf.saved_model.loader.load(\n",
    "        sess, [tf.saved_model.tag_constants.SERVING], SAVED_INT8_MODEL_DIR)\n",
    "    \n",
    "    print('Warming up for 10 batches...')\n",
    "    for _ in range (10):\n",
    "        image_data = sess.run(next_element)    \n",
    "        img = image_data[0]\n",
    "        output = sess.run(['import/resnet_v1_50/predictions/Softmax:0'], feed_dict={\"import/input:0\": img})\n",
    "    \n",
    "    print('Benchmarking TF-TRT INT8 inference engine...')\n",
    "    num_hits = 0\n",
    "    num_predict = 0\n",
    "    start_time = time.time()\n",
    "    try:\n",
    "        while True:        \n",
    "            image_data = sess.run(next_element)    \n",
    "            img = image_data[0]\n",
    "            label = image_data[1].squeeze()\n",
    "            output = sess.run(['import/resnet_v1_50/predictions/Softmax:0'], feed_dict={\"import/input:0\": img})\n",
    "            prediction = np.argmax(output[0], axis=1)\n",
    "            num_hits += np.sum(prediction == label)\n",
    "            num_predict += len(prediction)\n",
    "    except tf.errors.OutOfRangeError as e:\n",
    "        pass\n",
    "            \n",
    "    print('INT8 TF-TRT Accuracy: %.2f%%'%(100*num_hits/num_predict))\n",
    "    print('INT8 TF-TRT Inference speed: %.2f samples/s'%(num_predict/(time.time()-start_time)))\n"
   ]
  },
  {
   "cell_type": "code",
   "execution_count": 35,
   "metadata": {},
   "outputs": [
    {
     "name": "stdout",
     "output_type": "stream",
     "text": [
      "\n",
      "MetaGraphDef with tag-set: 'serve' contains the following SignatureDefs:\n",
      "\n",
      "signature_def['serving_default']:\n",
      "  The given SavedModel SignatureDef contains the following input(s):\n",
      "    inputs['input'] tensor_info:\n",
      "        dtype: DT_FLOAT\n",
      "        shape: (-1, 224, 224, 3)\n",
      "        name: import/input:0\n",
      "  The given SavedModel SignatureDef contains the following output(s):\n",
      "    outputs['softmax'] tensor_info:\n",
      "        dtype: DT_FLOAT\n",
      "        shape: unknown_rank\n",
      "        name: import/resnet_v1_50/predictions/Softmax:0\n",
      "  Method name is: tensorflow/serving/predict\n"
     ]
    }
   ],
   "source": [
    "!saved_model_cli show --all --dir $SAVED_INT8_MODEL_DIR"
   ]
  },
  {
   "cell_type": "markdown",
   "metadata": {},
   "source": [
    "## Benchmarking with synthetic data\n",
    "\n",
    "While benchmarking with real datasets, there are data reading and pre-processing procedures involved. As a result, the GPU is not fully loaded all the time. In this section, we test with synthetic data to test the throughput limit of the GPU."
   ]
  },
  {
   "cell_type": "code",
   "execution_count": 14,
   "metadata": {},
   "outputs": [
    {
     "name": "stdout",
     "output_type": "stream",
     "text": [
      "Warming up for 10 batches...\n",
      "Benchmarking...\n",
      "Naitive FP32 Inference speed: 1168.25 samples/s\n"
     ]
    }
   ],
   "source": [
    "NUM_ITER = 100\n",
    "dummy_input = np.random.random_sample((BATCH_SIZE,224,224,3))\n",
    "\n",
    "fp32_graph = tf.Graph()\n",
    "with fp32_graph.as_default():\n",
    "    inc=tf.constant(dummy_input, dtype=tf.float32)\n",
    "    dataset=tf.data.Dataset.from_tensors(inc)\n",
    "    dataset=dataset.repeat()\n",
    "    iterator=dataset.make_one_shot_iterator()\n",
    "    next_element=iterator.get_next()\n",
    "    out = tf.import_graph_def(\n",
    "      graph_def=fp32_graph_def,\n",
    "      input_map={\"import/input\":next_element},\n",
    "      return_elements=[ \"import/resnet_v1_50/predictions/Softmax\"]\n",
    "    )\n",
    "\n",
    "with tf.Session(graph=fp32_graph) as sess:\n",
    "    print('Warming up for 10 batches...')\n",
    "    for _ in range(10):\n",
    "        sess.run(out)\n",
    "    \n",
    "    print('Benchmarking...')\n",
    "    start_time = time.time()\n",
    "    for _ in range(NUM_ITER):\n",
    "        sess.run(out)\n",
    "    print('Naitive FP32 Inference speed: %.2f samples/s'%(NUM_ITER*BATCH_SIZE/(time.time()-start_time)))\n",
    "    "
   ]
  },
  {
   "cell_type": "code",
   "execution_count": 15,
   "metadata": {},
   "outputs": [
    {
     "name": "stdout",
     "output_type": "stream",
     "text": [
      "Warming up for 10 batches...\n",
      "Benchmarking...\n",
      "Naitive FP32 Inference speed: 3825.46 samples/s\n"
     ]
    }
   ],
   "source": [
    "fp16_graph = tf.Graph()\n",
    "with fp16_graph.as_default():\n",
    "    inc=tf.constant(dummy_input, dtype=tf.float32)\n",
    "    dataset=tf.data.Dataset.from_tensors(inc)\n",
    "    dataset=dataset.repeat()\n",
    "    iterator=dataset.make_one_shot_iterator()\n",
    "    next_element=iterator.get_next()\n",
    "    out = tf.import_graph_def(\n",
    "      graph_def=trt_fp16_Graph,\n",
    "      input_map={\"import/input\":next_element},\n",
    "      return_elements=[ \"import/resnet_v1_50/predictions/Softmax\"]\n",
    "    )\n",
    "    out = out[0].outputs[0]\n",
    "\n",
    "with tf.Session(graph=fp16_graph) as sess:\n",
    "    print('Warming up for 10 batches...')\n",
    "    for _ in range(10):\n",
    "        sess.run(out)\n",
    "    \n",
    "    print('Benchmarking...')\n",
    "    start_time = time.time()\n",
    "    for _ in range(NUM_ITER):\n",
    "        sess.run(out)\n",
    "    print('Naitive FP32 Inference speed: %.2f samples/s'%(NUM_ITER*BATCH_SIZE/(time.time()-start_time)))\n",
    "    "
   ]
  },
  {
   "cell_type": "code",
   "execution_count": 16,
   "metadata": {
    "scrolled": false
   },
   "outputs": [
    {
     "name": "stdout",
     "output_type": "stream",
     "text": [
      "Warming up for 10 batches...\n",
      "Benchmarking...\n",
      "Naitive FP32 Inference speed: 3985.13 samples/s\n"
     ]
    }
   ],
   "source": [
    "int8_graph = tf.Graph()\n",
    "with int8_graph.as_default():\n",
    "    inc=tf.constant(dummy_input, dtype=tf.float32)\n",
    "    dataset=tf.data.Dataset.from_tensors(inc)\n",
    "    dataset=dataset.repeat()\n",
    "    iterator=dataset.make_one_shot_iterator()\n",
    "    next_element=iterator.get_next()\n",
    "    out = tf.import_graph_def(\n",
    "      graph_def=trt_int8_calibrated_graph,\n",
    "      input_map={\"import/input\":next_element},\n",
    "      return_elements=[ \"import/resnet_v1_50/predictions/Softmax\"],\n",
    "      name=''        \n",
    "    )\n",
    "        \n",
    "with tf.Session(graph=int8_graph) as sess:\n",
    "\n",
    "    print('Warming up for 10 batches...')\n",
    "    for _ in range(10):\n",
    "        sess.run(out)\n",
    "    \n",
    "    print('Benchmarking...')\n",
    "    start_time = time.time()\n",
    "    for _ in range(NUM_ITER):\n",
    "        sess.run(out)\n",
    "    print('Naitive FP32 Inference speed: %.2f samples/s'%(NUM_ITER*BATCH_SIZE/(time.time()-start_time)))"
   ]
  },
  {
   "cell_type": "code",
   "execution_count": null,
   "metadata": {},
   "outputs": [],
   "source": []
  }
 ],
 "metadata": {
  "kernelspec": {
   "display_name": "Python 3",
   "language": "python",
   "name": "python3"
  },
  "language_info": {
   "codemirror_mode": {
    "name": "ipython",
    "version": 3
   },
   "file_extension": ".py",
   "mimetype": "text/x-python",
   "name": "python",
   "nbconvert_exporter": "python",
   "pygments_lexer": "ipython3",
   "version": "3.5.2"
  }
 },
 "nbformat": 4,
 "nbformat_minor": 2
}
